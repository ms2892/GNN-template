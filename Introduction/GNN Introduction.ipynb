{
 "cells": [
  {
   "cell_type": "markdown",
   "id": "f7560c95",
   "metadata": {},
   "source": [
    "# Introduction\n",
    "\n",
    "This notebook was just meant to get used to the environment of PyG.\n",
    "\n",
    "The models implemented in this notebook aren't ideal and don't perform well.\n",
    "\n",
    "In the coming tutorials, the implementation of better models can be done on top of this notebook to improve upon its existing performance."
   ]
  },
  {
   "cell_type": "code",
   "execution_count": 1,
   "id": "31e815c0",
   "metadata": {},
   "outputs": [],
   "source": [
    "import torch_geometric\n",
    "from torch_geometric.datasets import Planetoid"
   ]
  },
  {
   "cell_type": "markdown",
   "id": "92ad308f",
   "metadata": {},
   "source": [
    "# Load the Data"
   ]
  },
  {
   "cell_type": "code",
   "execution_count": 2,
   "id": "a34a0e3a",
   "metadata": {},
   "outputs": [
    {
     "name": "stderr",
     "output_type": "stream",
     "text": [
      "Downloading https://github.com/kimiyoung/planetoid/raw/master/data/ind.cora.x\n",
      "Downloading https://github.com/kimiyoung/planetoid/raw/master/data/ind.cora.tx\n",
      "Downloading https://github.com/kimiyoung/planetoid/raw/master/data/ind.cora.allx\n",
      "Downloading https://github.com/kimiyoung/planetoid/raw/master/data/ind.cora.y\n",
      "Downloading https://github.com/kimiyoung/planetoid/raw/master/data/ind.cora.ty\n",
      "Downloading https://github.com/kimiyoung/planetoid/raw/master/data/ind.cora.ally\n",
      "Downloading https://github.com/kimiyoung/planetoid/raw/master/data/ind.cora.graph\n",
      "Downloading https://github.com/kimiyoung/planetoid/raw/master/data/ind.cora.test.index\n",
      "Processing...\n",
      "Done!\n"
     ]
    }
   ],
   "source": [
    "dataset = Planetoid(root='cora-dataset',name='Cora')"
   ]
  },
  {
   "cell_type": "markdown",
   "id": "55ecda67",
   "metadata": {},
   "source": [
    "#### Dataset Properties"
   ]
  },
  {
   "cell_type": "code",
   "execution_count": 3,
   "id": "cfaad356",
   "metadata": {},
   "outputs": [
    {
     "name": "stdout",
     "output_type": "stream",
     "text": [
      "Cora()\n"
     ]
    }
   ],
   "source": [
    "print(dataset)"
   ]
  },
  {
   "cell_type": "code",
   "execution_count": 4,
   "id": "9e3381a2",
   "metadata": {},
   "outputs": [
    {
     "name": "stdout",
     "output_type": "stream",
     "text": [
      "Number of graphs:\t\t 1\n",
      "Number of classes:\t\t 7\n",
      "Number of node features:\t\t 1433\n",
      "Number of edge features:\t\t 0\n",
      "<class 'torch_geometric.datasets.planetoid.Planetoid'>\n"
     ]
    }
   ],
   "source": [
    "print(\"Number of graphs:\\t\\t\",len(dataset))\n",
    "print(\"Number of classes:\\t\\t\",dataset.num_classes)\n",
    "print(\"Number of node features:\\t\\t\",dataset.num_node_features)\n",
    "print(\"Number of edge features:\\t\\t\",dataset.num_edge_features)\n",
    "print(type(dataset))"
   ]
  },
  {
   "cell_type": "code",
   "execution_count": 5,
   "id": "aab4f342",
   "metadata": {},
   "outputs": [
    {
     "name": "stdout",
     "output_type": "stream",
     "text": [
      "1433\n"
     ]
    }
   ],
   "source": [
    "print(dataset.num_features)"
   ]
  },
  {
   "cell_type": "markdown",
   "id": "a624cd76",
   "metadata": {},
   "source": [
    "##### Dataset Shapes"
   ]
  },
  {
   "cell_type": "code",
   "execution_count": 5,
   "id": "9e583535",
   "metadata": {},
   "outputs": [
    {
     "name": "stdout",
     "output_type": "stream",
     "text": [
      "Data(x=[2708, 1433], edge_index=[2, 10556], y=[2708], train_mask=[2708], val_mask=[2708], test_mask=[2708])\n"
     ]
    }
   ],
   "source": [
    "print(dataset.data)"
   ]
  },
  {
   "cell_type": "code",
   "execution_count": 6,
   "id": "288b4b86",
   "metadata": {},
   "outputs": [
    {
     "name": "stdout",
     "output_type": "stream",
     "text": [
      "edge_index:\t\t torch.Size([2, 10556])\n",
      "tensor([[   0,    0,    0,  ..., 2707, 2707, 2707],\n",
      "        [ 633, 1862, 2582,  ...,  598, 1473, 2706]])\n",
      "\n",
      "\n",
      "train_mask:\t\t torch.Size([2708])\n",
      "tensor([ True,  True,  True,  ..., False, False, False])\n",
      "\n",
      "\n",
      "x:\t\t torch.Size([2708, 1433])\n",
      "tensor([[0., 0., 0.,  ..., 0., 0., 0.],\n",
      "        [0., 0., 0.,  ..., 0., 0., 0.],\n",
      "        [0., 0., 0.,  ..., 0., 0., 0.],\n",
      "        ...,\n",
      "        [0., 0., 0.,  ..., 0., 0., 0.],\n",
      "        [0., 0., 0.,  ..., 0., 0., 0.],\n",
      "        [0., 0., 0.,  ..., 0., 0., 0.]])\n",
      "\n",
      "\n",
      "y:\t\t torch.Size([2708])\n",
      "tensor([3, 4, 4,  ..., 3, 3, 3])\n",
      "\n",
      "\n"
     ]
    }
   ],
   "source": [
    "print('edge_index:\\t\\t',dataset.data.edge_index.shape)\n",
    "print(dataset.data.edge_index)\n",
    "print(\"\\n\")\n",
    "print('train_mask:\\t\\t',dataset.data.train_mask.shape)\n",
    "print(dataset.data.train_mask)\n",
    "print(\"\\n\")\n",
    "print('x:\\t\\t',dataset.data.x.shape)\n",
    "print(dataset.data.x)\n",
    "print(\"\\n\")\n",
    "print('y:\\t\\t',dataset.data.y.shape)\n",
    "print(dataset.data.y)\n",
    "print(\"\\n\")"
   ]
  },
  {
   "cell_type": "code",
   "execution_count": 7,
   "id": "de2fa5ab",
   "metadata": {},
   "outputs": [],
   "source": [
    "import os.path as osp\n",
    "import torch\n",
    "import torch.nn.functional as F\n",
    "import torch.nn as nn\n",
    "from torch_geometric.nn import SAGEConv\n"
   ]
  },
  {
   "cell_type": "code",
   "execution_count": 8,
   "id": "98c6d6e9",
   "metadata": {},
   "outputs": [],
   "source": [
    "data = dataset[0]"
   ]
  },
  {
   "cell_type": "markdown",
   "id": "8397a033",
   "metadata": {},
   "source": [
    "## Model Definition\n",
    "\n",
    "Here a basic model was defined with no Linear layers or anything. Just a SAGEConv layer mapping from the number of features to number of classes. \n",
    "\n",
    "This will result in barely any improvement in terms of validation and test accuracy"
   ]
  },
  {
   "cell_type": "code",
   "execution_count": 9,
   "id": "e1168963",
   "metadata": {},
   "outputs": [],
   "source": [
    "class Net_MAX(nn.Module):\n",
    "    def __init__(self):\n",
    "        super(Net_MAX,self).__init__()\n",
    "        \n",
    "        self.conv = SAGEConv(dataset.num_features, dataset.num_classes,aggr='max')\n",
    "        # aggr = max, mean, add ...\n",
    "    def forward(self):\n",
    "        x = self.conv(data.x,data.edge_index)\n",
    "        \n",
    "        return F.log_softmax(x,dim=1)"
   ]
  },
  {
   "cell_type": "code",
   "execution_count": 10,
   "id": "eb8c19d2",
   "metadata": {},
   "outputs": [],
   "source": [
    "class Net_MEAN(nn.Module):\n",
    "    def __init__(self):\n",
    "        super(Net_MEAN,self).__init__()\n",
    "        \n",
    "        self.conv = SAGEConv(dataset.num_features, dataset.num_classes,aggr='mean')\n",
    "        # aggr = max, mean, add ...\n",
    "    def forward(self):\n",
    "        x = self.conv(data.x,data.edge_index)\n",
    "        \n",
    "        return F.log_softmax(x,dim=1)"
   ]
  },
  {
   "cell_type": "code",
   "execution_count": 11,
   "id": "0d5db1f5",
   "metadata": {},
   "outputs": [],
   "source": [
    "class Net_ADD(nn.Module):\n",
    "    def __init__(self):\n",
    "        super(Net_ADD,self).__init__()\n",
    "        \n",
    "        self.conv = SAGEConv(dataset.num_features, dataset.num_classes,aggr='add')\n",
    "        # aggr = max, mean, add ...\n",
    "    def forward(self):\n",
    "        x = self.conv(data.x,data.edge_index)\n",
    "        \n",
    "        return F.log_softmax(x,dim=1)"
   ]
  },
  {
   "cell_type": "code",
   "execution_count": 12,
   "id": "7e77a595",
   "metadata": {},
   "outputs": [],
   "source": [
    "device = torch.device('cuda' if torch.cuda.is_available() else 'cpu')\n",
    "\n",
    "model_max, data = Net_MAX().to(device),data.to(device)\n",
    "model_mean = Net_MEAN().to(device)\n",
    "model_add = Net_ADD().to(device)\n",
    "\n",
    "optimizer_max = torch.optim.Adam(model_max.parameters(),lr=0.01,weight_decay=5e-4)\n",
    "optimizer_mean = torch.optim.Adam(model_mean.parameters(),lr=0.01,weight_decay=5e-4)\n",
    "optimizer_add = torch.optim.Adam(model_add.parameters(),lr=0.01,weight_decay=5e-4)\n"
   ]
  },
  {
   "cell_type": "markdown",
   "id": "11c1e319",
   "metadata": {},
   "source": [
    "##### Definition of a single training / optimizing step"
   ]
  },
  {
   "cell_type": "code",
   "execution_count": 13,
   "id": "213897ec",
   "metadata": {},
   "outputs": [],
   "source": [
    "def train(model,optimizer,data):\n",
    "    model.train()\n",
    "    optimizer.zero_grad()\n",
    "    F.nll_loss(model()[data.train_mask],data.y[data.train_mask]).backward()\n",
    "    optimizer.step()\n",
    "    return model\n",
    "    \n",
    "def test(model,optimizer,data):\n",
    "    model.eval()\n",
    "    logits,accs = model(),[]\n",
    "    for _,mask in data('train_mask','val_mask','test_mask'):\n",
    "        pred = logits[mask].max(1)[1]\n",
    "        acc = pred.eq(data.y[mask]).sum().item() / mask.sum().item()\n",
    "        accs.append(acc)\n",
    "    return accs"
   ]
  },
  {
   "cell_type": "markdown",
   "id": "c0b3cd74",
   "metadata": {},
   "source": [
    "##### Definition of the training loop"
   ]
  },
  {
   "cell_type": "code",
   "execution_count": 14,
   "id": "1b66f262",
   "metadata": {},
   "outputs": [],
   "source": [
    "def train_loop(model,optimizer,data,epochs):\n",
    "\n",
    "    best_val_acc = test_acc = 0\n",
    "\n",
    "    for epoch in range(1,epochs):\n",
    "        model = train(model,optimizer,data)\n",
    "        _,val_acc,tmp_test_acc = test(model,optimizer,data)\n",
    "        if val_acc > best_val_acc:\n",
    "            best_val_acc = val_acc\n",
    "            test_acc = tmp_test_acc\n",
    "        log = 'Epoch: {}, Val: {:.4f}, Test: {:.4f}'\n",
    "        \n",
    "        if epoch%10==0:\n",
    "            print(log.format(epoch,best_val_acc,test_acc))"
   ]
  },
  {
   "cell_type": "markdown",
   "id": "7c4f999c",
   "metadata": {},
   "source": [
    "#### Network with aggregate function as Max"
   ]
  },
  {
   "cell_type": "code",
   "execution_count": 15,
   "id": "55950809",
   "metadata": {},
   "outputs": [
    {
     "name": "stdout",
     "output_type": "stream",
     "text": [
      "Epoch: 10, Val: 0.7220, Test: 0.7090\n",
      "Epoch: 20, Val: 0.7220, Test: 0.7090\n",
      "Epoch: 30, Val: 0.7220, Test: 0.7090\n",
      "Epoch: 40, Val: 0.7220, Test: 0.7090\n",
      "Epoch: 50, Val: 0.7220, Test: 0.7090\n",
      "Epoch: 60, Val: 0.7220, Test: 0.7090\n",
      "Epoch: 70, Val: 0.7240, Test: 0.7130\n",
      "Epoch: 80, Val: 0.7240, Test: 0.7130\n",
      "Epoch: 90, Val: 0.7240, Test: 0.7130\n"
     ]
    }
   ],
   "source": [
    "train_loop(model_max,optimizer_max,data,100)"
   ]
  },
  {
   "cell_type": "markdown",
   "id": "4c99489c",
   "metadata": {},
   "source": [
    "#### Network with aggregate function as Sum"
   ]
  },
  {
   "cell_type": "code",
   "execution_count": 16,
   "id": "cf0c416a",
   "metadata": {},
   "outputs": [
    {
     "name": "stdout",
     "output_type": "stream",
     "text": [
      "Epoch: 10, Val: 0.7440, Test: 0.7580\n",
      "Epoch: 20, Val: 0.7440, Test: 0.7580\n",
      "Epoch: 30, Val: 0.7440, Test: 0.7580\n",
      "Epoch: 40, Val: 0.7440, Test: 0.7580\n",
      "Epoch: 50, Val: 0.7440, Test: 0.7580\n",
      "Epoch: 60, Val: 0.7440, Test: 0.7580\n",
      "Epoch: 70, Val: 0.7440, Test: 0.7580\n",
      "Epoch: 80, Val: 0.7440, Test: 0.7580\n",
      "Epoch: 90, Val: 0.7440, Test: 0.7580\n"
     ]
    }
   ],
   "source": [
    "train_loop(model_add,optimizer_add,data,100)"
   ]
  },
  {
   "cell_type": "markdown",
   "id": "54c4c6e3",
   "metadata": {},
   "source": [
    "#### Network with aggregate function as Mean"
   ]
  },
  {
   "cell_type": "code",
   "execution_count": 17,
   "id": "2533f80a",
   "metadata": {},
   "outputs": [
    {
     "name": "stdout",
     "output_type": "stream",
     "text": [
      "Epoch: 10, Val: 0.7000, Test: 0.7070\n",
      "Epoch: 20, Val: 0.7020, Test: 0.7070\n",
      "Epoch: 30, Val: 0.7020, Test: 0.7070\n",
      "Epoch: 40, Val: 0.7020, Test: 0.7070\n",
      "Epoch: 50, Val: 0.7020, Test: 0.7070\n",
      "Epoch: 60, Val: 0.7020, Test: 0.7070\n",
      "Epoch: 70, Val: 0.7020, Test: 0.7070\n",
      "Epoch: 80, Val: 0.7020, Test: 0.7070\n",
      "Epoch: 90, Val: 0.7020, Test: 0.7070\n"
     ]
    }
   ],
   "source": [
    "train_loop(model_mean,optimizer_mean,data,100)"
   ]
  }
 ],
 "metadata": {
  "kernelspec": {
   "display_name": "Python 3 (ipykernel)",
   "language": "python",
   "name": "python3"
  },
  "language_info": {
   "codemirror_mode": {
    "name": "ipython",
    "version": 3
   },
   "file_extension": ".py",
   "mimetype": "text/x-python",
   "name": "python",
   "nbconvert_exporter": "python",
   "pygments_lexer": "ipython3",
   "version": "3.9.7"
  }
 },
 "nbformat": 4,
 "nbformat_minor": 5
}
