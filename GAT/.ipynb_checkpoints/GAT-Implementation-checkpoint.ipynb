{
 "cells": [
  {
   "cell_type": "markdown",
   "id": "7a3808c8",
   "metadata": {},
   "source": [
    "# GAT Implementation"
   ]
  },
  {
   "cell_type": "code",
   "execution_count": 1,
   "id": "0c39795e",
   "metadata": {},
   "outputs": [],
   "source": [
    "import numpy as np\n",
    "import torch\n",
    "import torch.nn as nn\n",
    "import torch.nn.functional as F"
   ]
  },
  {
   "cell_type": "markdown",
   "id": "2fbd4fc1",
   "metadata": {},
   "source": [
    "## Structure"
   ]
  },
  {
   "cell_type": "code",
   "execution_count": 2,
   "id": "0b8bd2bb",
   "metadata": {},
   "outputs": [],
   "source": [
    "class GATLayer(nn.Module):\n",
    "    \"\"\"\n",
    "    GAT Pytorch Implementation (Simple)\n",
    "    \"\"\"\n",
    "    \n",
    "    def __init__(self):\n",
    "        super(GATLayer,self).__init__()\n",
    "        \n",
    "    def forward(self,inp,adj):\n",
    "        print(\"\")"
   ]
  },
  {
   "cell_type": "markdown",
   "id": "c23bcf65",
   "metadata": {},
   "source": [
    "# Forward method\n",
    "\n",
    "\n",
    "\n",
    "Note that this is a basic from scratch implementation of the GAT layer.\n",
    "\n",
    "There are pre-implementations available in the PyG repository.\n",
    "\n",
    "This is to learn about how the structure of GAT is made\n",
    "\n",
    "### Linear Transformation\n",
    "\n",
    "h_i' = W.h_i\n",
    "\n",
    "Basically trying to implement a linear transformation on the features of each and every node"
   ]
  },
  {
   "cell_type": "code",
   "execution_count": 3,
   "id": "50882d55",
   "metadata": {},
   "outputs": [
    {
     "name": "stdout",
     "output_type": "stream",
     "text": [
      "torch.Size([3, 2])\n"
     ]
    }
   ],
   "source": [
    "in_features=5\n",
    "out_features=2\n",
    "nb_nodes = 3\n",
    "\n",
    "# Parameter intialization \n",
    "# The goal of Xavier Initialization is to initialize the weights \n",
    "# such that the variance of the activations are the same across every layer\n",
    "\n",
    "\n",
    "W = nn.Parameter(torch.zeros(size=(in_features, out_features)))  # Xavier parameter initializator\n",
    "nn.init.xavier_uniform_(W.data,gain=1.414)\n",
    "\n",
    "# Random tensor with shape nb_nodes * in_features\n",
    "inp = torch.rand(nb_nodes,in_features)\n",
    "\n",
    "# linear transformation\n",
    "\n",
    "h = torch.mm(inp,W)\n",
    "# torch.mm -> matrix multiplication of mtx1 and mtx2. \n",
    "# mtx 1-> input amd mtx2-> weights\n",
    "# inp is a nodes * features matrix\n",
    "# W is a features * output features matrix\n",
    "# Results in a matrix with number of nodes * output features\n",
    "\n",
    "\n",
    "N = h.size()[0]\n",
    "\n",
    "print(h.shape)"
   ]
  },
  {
   "cell_type": "markdown",
   "id": "caf190f5",
   "metadata": {},
   "source": [
    "### Attention Mechanism"
   ]
  },
  {
   "cell_type": "code",
   "execution_count": 4,
   "id": "8321fd46",
   "metadata": {},
   "outputs": [
    {
     "name": "stdout",
     "output_type": "stream",
     "text": [
      "torch.Size([4, 1])\n"
     ]
    }
   ],
   "source": [
    "a = nn.Parameter(torch.zeros(size=(2*out_features,1))) # xavier parameter initialization\n",
    "nn.init.xavier_uniform_(a.data,gain=1.414)\n",
    "\n",
    "\n",
    "print(a.shape) # a will have a shape 2.output_features * 1\n",
    "# a is the function that will consist of the attention function used in this mechanism\n",
    "\n",
    "\n",
    "leakyrelu = nn.LeakyReLU(0.2) # LeakyReLU as described in the GAT paper. 0.2 is the slope of the \n",
    "                              # graph below the threshold\n"
   ]
  },
  {
   "cell_type": "code",
   "execution_count": 5,
   "id": "0c1547b2",
   "metadata": {},
   "outputs": [
    {
     "name": "stdout",
     "output_type": "stream",
     "text": [
      "torch.Size([3, 3, 4])\n",
      "tensor([[[ 1.0631, -0.4785,  1.0631, -0.4785],\n",
      "         [ 1.0631, -0.4785, -0.2539,  0.2065],\n",
      "         [ 1.0631, -0.4785,  0.9526,  0.0283]],\n",
      "\n",
      "        [[-0.2539,  0.2065,  1.0631, -0.4785],\n",
      "         [-0.2539,  0.2065, -0.2539,  0.2065],\n",
      "         [-0.2539,  0.2065,  0.9526,  0.0283]],\n",
      "\n",
      "        [[ 0.9526,  0.0283,  1.0631, -0.4785],\n",
      "         [ 0.9526,  0.0283, -0.2539,  0.2065],\n",
      "         [ 0.9526,  0.0283,  0.9526,  0.0283]]], grad_fn=<ViewBackward0>)\n"
     ]
    }
   ],
   "source": [
    "a_input = torch.cat([h.repeat(1,N).view(N*N,-1), h.repeat(N,1)],dim=1).view(N,-1,2*out_features)\n",
    "\n",
    "print(a_input.shape) \n",
    "# tensor.repeat(n,m) repeats the value present in the tensor \n",
    "# in a n,m dimension\n",
    "\n",
    "\n",
    "# This step just creates all possible permutations (with replacement) of node features with each other\n",
    "\n",
    "# If nodes have features [[ab],[cd],[ef]] the resultant matrix will be of the shape\n",
    "\n",
    "#   [ab X ab,\n",
    "#   ab X cd,\n",
    "#   ab X ef],\n",
    "#   [cd X ab,\n",
    "#   cd X cd,\n",
    "#   cd X ef],\n",
    "#   [ef X ab,\n",
    "#   ef X cd,\n",
    "#   ef X ef]\n",
    "\n",
    "print(a_input)"
   ]
  },
  {
   "cell_type": "code",
   "execution_count": 6,
   "id": "5072ee86",
   "metadata": {},
   "outputs": [],
   "source": [
    "e = leakyrelu(torch.matmul(a_input,a).squeeze(2))"
   ]
  },
  {
   "cell_type": "code",
   "execution_count": 7,
   "id": "ace8c414",
   "metadata": {},
   "outputs": [
    {
     "name": "stdout",
     "output_type": "stream",
     "text": [
      "torch.Size([3, 3, 4]) torch.Size([4, 1])\n",
      "\n",
      "torch.Size([3, 3, 1])\n",
      "\n",
      "torch.Size([3, 3])\n"
     ]
    }
   ],
   "source": [
    "print(a_input.shape,a.shape)\n",
    "print(\"\")\n",
    "print(torch.matmul(a_input,a).shape)\n",
    "print(\"\")\n",
    "print(torch.matmul(a_input,a).squeeze(2).shape)"
   ]
  },
  {
   "cell_type": "code",
   "execution_count": 8,
   "id": "e62063d9",
   "metadata": {},
   "outputs": [
    {
     "name": "stdout",
     "output_type": "stream",
     "text": [
      "tensor([[-0.0243, -0.0141,  0.4429],\n",
      "        [ 0.1829,  0.2339,  0.7472],\n",
      "        [ 0.3419,  0.3928,  0.9062]], grad_fn=<LeakyReluBackward0>)\n"
     ]
    }
   ],
   "source": [
    "print(e)\n",
    "\n",
    "# basically a matrix that defines inter node attention / influence\n",
    "\n",
    "# eij -> influence of node i on j"
   ]
  },
  {
   "cell_type": "markdown",
   "id": "1b2bbb44",
   "metadata": {},
   "source": [
    "#### Masked Attention"
   ]
  },
  {
   "cell_type": "code",
   "execution_count": 11,
   "id": "6a48ce16",
   "metadata": {},
   "outputs": [
    {
     "name": "stdout",
     "output_type": "stream",
     "text": [
      "torch.Size([3, 3])\n",
      "\n",
      "tensor([[-9.0000e+15, -9.0000e+15, -9.0000e+15],\n",
      "        [-9.0000e+15, -9.0000e+15, -9.0000e+15],\n",
      "        [-9.0000e+15, -9.0000e+15, -9.0000e+15]])\n",
      "\n",
      "tensor([[1, 1, 1],\n",
      "        [0, 1, 0],\n",
      "        [1, 0, 1]])\n"
     ]
    }
   ],
   "source": [
    "# Masked Attention -> only done for a couple of nodes connected with some edges\n",
    "# The implementation of attention before works on the entire graph\n",
    "adj = torch.randint(2,(3,3))\n",
    "\n",
    "# adj is the mask\n",
    "\n",
    "zero_vec = -9e15*torch.ones_like(e)\n",
    "# Where adj is not equal to 1, it'll replace it with -infinity\n",
    "# -infinity because exp(e) will be used to define the influence \n",
    "# exp(-infinity) is zero\n",
    "\n",
    "print(zero_vec.shape)\n",
    "print(\"\")\n",
    "print(zero_vec)\n",
    "print(\"\")\n",
    "print(adj)"
   ]
  },
  {
   "cell_type": "code",
   "execution_count": 12,
   "id": "58f8a0a9",
   "metadata": {},
   "outputs": [
    {
     "name": "stdout",
     "output_type": "stream",
     "text": [
      "tensor([[-2.4278e-02, -1.4091e-02,  4.4290e-01],\n",
      "        [-9.0000e+15,  2.3386e-01, -9.0000e+15],\n",
      "        [ 3.4187e-01, -9.0000e+15,  9.0616e-01]], grad_fn=<WhereBackward0>)\n"
     ]
    }
   ],
   "source": [
    "attention = torch.where(adj>0,e,zero_vec)\n",
    "print(attention)"
   ]
  },
  {
   "cell_type": "code",
   "execution_count": 13,
   "id": "12b2f8f5",
   "metadata": {},
   "outputs": [],
   "source": [
    "attention = F.softmax(attention,dim=1)\n",
    "h_prime = torch.matmul(attention,h)"
   ]
  },
  {
   "cell_type": "code",
   "execution_count": 14,
   "id": "a4917909",
   "metadata": {},
   "outputs": [
    {
     "data": {
      "text/plain": [
       "tensor([[0.2773, 0.2802, 0.4425],\n",
       "        [0.0000, 1.0000, 0.0000],\n",
       "        [0.3626, 0.0000, 0.6374]], grad_fn=<SoftmaxBackward0>)"
      ]
     },
     "execution_count": 14,
     "metadata": {},
     "output_type": "execute_result"
    }
   ],
   "source": [
    "attention"
   ]
  },
  {
   "cell_type": "code",
   "execution_count": 15,
   "id": "fca0fbbf",
   "metadata": {},
   "outputs": [
    {
     "data": {
      "text/plain": [
       "tensor([[ 0.6452, -0.0623],\n",
       "        [-0.2539,  0.2065],\n",
       "        [ 0.9926, -0.1554]], grad_fn=<MmBackward0>)"
      ]
     },
     "execution_count": 15,
     "metadata": {},
     "output_type": "execute_result"
    }
   ],
   "source": [
    "h_prime"
   ]
  },
  {
   "cell_type": "code",
   "execution_count": 16,
   "id": "1230f17d",
   "metadata": {},
   "outputs": [],
   "source": [
    " # h_prime is the tensor h modified by the attention mechanism"
   ]
  },
  {
   "cell_type": "code",
   "execution_count": 17,
   "id": "eb00de40",
   "metadata": {},
   "outputs": [
    {
     "data": {
      "text/plain": [
       "tensor([[ 1.0631, -0.4785],\n",
       "        [-0.2539,  0.2065],\n",
       "        [ 0.9526,  0.0283]], grad_fn=<MmBackward0>)"
      ]
     },
     "execution_count": 17,
     "metadata": {},
     "output_type": "execute_result"
    }
   ],
   "source": [
    "h"
   ]
  },
  {
   "cell_type": "markdown",
   "id": "c4ca251d",
   "metadata": {},
   "source": [
    "# Build the Layer"
   ]
  },
  {
   "cell_type": "code",
   "execution_count": 18,
   "id": "72f2c6a6",
   "metadata": {},
   "outputs": [],
   "source": [
    "class GATLayer(nn.Module):\n",
    "    def __init__(self,in_features,out_features,dropout,alpha,concat=True):\n",
    "        super(GATLayer,self).__init__()\n",
    "        # Define the initialization\n",
    "        self.in_features = in_features\n",
    "        self.out_features = out_features\n",
    "        self.alpha = alpha\n",
    "        self.concat = concat\n",
    "        self.dropout = dropout\n",
    "        \n",
    "        # Initialize weights\n",
    "        self.W = nn.Parameter(torch.zeros(size=(in_features, out_features)))  # Xavier parameter initializator\n",
    "        nn.init.xavier_uniform_(self.W.data,gain=1.414)\n",
    "\n",
    "        # Initialize Attention weights\n",
    "        self.a = nn.Parameter(torch.zeros(size=(2*out_features,1))) # xavier parameter initialization\n",
    "        nn.init.xavier_uniform_(a.data,gain=1.414)\n",
    "        \n",
    "        # LeakyReLU\n",
    "        self.leakyrelu = nn.LeakyReLU(0.2)\n",
    "        \n",
    "        \n",
    "    def forward(self,inp,adj):\n",
    "        \n",
    "        # Linear Transformation\n",
    "        h = torch.mm(inp,self.W)\n",
    "        N = h.size()[0] # N is the number of nodes in the graph\n",
    "        \n",
    "        # Attention Mechanism\n",
    "        a_input = torch.cat([h.repeat(1,N).view(N*N,-1),h.repeat(N,1)],dim=1).view(N,-1,2*self.out_features)\n",
    "        e = self.leakyrelu(torch.matmul(a_input,self.a).squeeze(2))\n",
    "        \n",
    "        # Masked Attnetion\n",
    "        zero_vec = -9e15*torch.ones_like(e)\n",
    "        attention = torch.where(adj>0,e,zero_vec)\n",
    "        \n",
    "        attention = F.softmax(attention,dim=1)\n",
    "        attention = F.dropout(attention, self.dropout, training=self.training)   # self.training = True or False depending on the mode of the model \n",
    "        h_prime = torch.matmul(attention,h)\n",
    "        \n",
    "        if self.concat:\n",
    "            return F.elu(h_prime)\n",
    "        else:\n",
    "            return h_prime"
   ]
  },
  {
   "cell_type": "markdown",
   "id": "774cb68a",
   "metadata": {},
   "source": [
    "### Using the Layer"
   ]
  },
  {
   "cell_type": "code",
   "execution_count": 1,
   "id": "3cbb0a4d",
   "metadata": {},
   "outputs": [
    {
     "name": "stderr",
     "output_type": "stream",
     "text": [
      "Downloading https://github.com/kimiyoung/planetoid/raw/master/data/ind.cora.x\n",
      "Downloading https://github.com/kimiyoung/planetoid/raw/master/data/ind.cora.tx\n",
      "Downloading https://github.com/kimiyoung/planetoid/raw/master/data/ind.cora.allx\n",
      "Downloading https://github.com/kimiyoung/planetoid/raw/master/data/ind.cora.y\n",
      "Downloading https://github.com/kimiyoung/planetoid/raw/master/data/ind.cora.ty\n",
      "Downloading https://github.com/kimiyoung/planetoid/raw/master/data/ind.cora.ally\n",
      "Downloading https://github.com/kimiyoung/planetoid/raw/master/data/ind.cora.graph\n",
      "Downloading https://github.com/kimiyoung/planetoid/raw/master/data/ind.cora.test.index\n",
      "Processing...\n",
      "Done!\n"
     ]
    },
    {
     "name": "stdout",
     "output_type": "stream",
     "text": [
      "Number of Classes in Cora: 7\n",
      "Number of Node Features in Cora: 1433\n"
     ]
    }
   ],
   "source": [
    "from torch_geometric.data import Data\n",
    "from torch_geometric.nn import GATConv    # official GAT implementation in PyG\n",
    "from torch_geometric.datasets import Planetoid \n",
    "import torch_geometric.transforms as T\n",
    "\n",
    "import matplotlib.pyplot as plt \n",
    "\n",
    "name_data = 'Cora'\n",
    "dataset = Planetoid(root='data',name = name_data)\n",
    "dataset.transform = T.NormalizeFeatures()\n",
    "\n",
    "print(f\"Number of Classes in {name_data}:\", dataset.num_classes)\n",
    "print(f\"Number of Node Features in {name_data}:\", dataset.num_node_features)"
   ]
  },
  {
   "cell_type": "code",
   "execution_count": null,
   "id": "03415ab2",
   "metadata": {},
   "outputs": [],
   "source": [
    "class GAT(nn.Module):\n",
    "    def __init__(self,in_features,out_features):\n",
    "        super(GAT,self).__init__()\n",
    "        self.hid = 8\n",
    "        self.in_head = 8\n",
    "        self.out_head = 1\n",
    "        \n",
    "        self.conv1 = GATConv(in_features,self.hid,heads=self.in_head)\n",
    "        self.conv2 = GATConv(self.hid*self.in_head,out_features,concat=False,heads=self.out_head)\n",
    "        \n",
    "    def forward(self,data):\n",
    "        x,edge_index = data.x,data.edge_index\n",
    "        \n",
    "#         x = F.dropout(x,p=0.6,training=self.training)\n",
    "        x = self.conv1(x,edge_index)\n",
    "        x = F.elu(x)\n",
    "        x = F.dropout(x,p=0.6,training=self.training)\n",
    "        x = self.conv2(x,edge_index)\n",
    "        \n",
    "        return F.log_softmax(x.dim=1)\n",
    "    \n",
    "device = torch.device('cuda' if torch.cuda.is_available() else 'cpu')\n",
    "\n",
    "model = GAT(dataset.num_features,dataset.num_classes).to(device)\n",
    "data = dataset[0].to(device)\n",
    "\n"
   ]
  }
 ],
 "metadata": {
  "kernelspec": {
   "display_name": "Python 3 (ipykernel)",
   "language": "python",
   "name": "python3"
  },
  "language_info": {
   "codemirror_mode": {
    "name": "ipython",
    "version": 3
   },
   "file_extension": ".py",
   "mimetype": "text/x-python",
   "name": "python",
   "nbconvert_exporter": "python",
   "pygments_lexer": "ipython3",
   "version": "3.9.7"
  }
 },
 "nbformat": 4,
 "nbformat_minor": 5
}
