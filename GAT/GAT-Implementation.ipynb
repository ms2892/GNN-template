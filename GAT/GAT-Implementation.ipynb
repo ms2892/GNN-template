{
 "cells": [
  {
   "cell_type": "markdown",
   "id": "7a3808c8",
   "metadata": {},
   "source": [
    "# GAT Implementation"
   ]
  },
  {
   "cell_type": "code",
   "execution_count": 1,
   "id": "0c39795e",
   "metadata": {},
   "outputs": [],
   "source": [
    "import numpy as np\n",
    "import torch\n",
    "import torch.nn as nn\n",
    "import torch.nn.functional as F"
   ]
  },
  {
   "cell_type": "markdown",
   "id": "2fbd4fc1",
   "metadata": {},
   "source": [
    "## Structure"
   ]
  },
  {
   "cell_type": "code",
   "execution_count": 2,
   "id": "0b8bd2bb",
   "metadata": {},
   "outputs": [],
   "source": [
    "class GATLayer(nn.Module):\n",
    "    \"\"\"\n",
    "    GAT Pytorch Implementation (Simple)\n",
    "    \"\"\"\n",
    "    \n",
    "    def __init__(self):\n",
    "        super(GATLayer,self).__init__()\n",
    "        \n",
    "    def forward(self,inp,adj):\n",
    "        print(\"\")"
   ]
  },
  {
   "cell_type": "markdown",
   "id": "c23bcf65",
   "metadata": {},
   "source": [
    "# Forward method\n",
    "\n",
    "\n",
    "\n",
    "Note that this is a basic from scratch implementation of the GAT layer.\n",
    "\n",
    "There are pre-implementations available in the PyG repository.\n",
    "\n",
    "This is to learn about how the structure of GAT is made\n",
    "\n",
    "### Linear Transformation\n",
    "\n",
    "h_i' = W.h_i\n",
    "\n",
    "Basically trying to implement a linear transformation on the features of each and every node"
   ]
  },
  {
   "cell_type": "code",
   "execution_count": 3,
   "id": "50882d55",
   "metadata": {},
   "outputs": [
    {
     "name": "stdout",
     "output_type": "stream",
     "text": [
      "torch.Size([3, 2])\n"
     ]
    }
   ],
   "source": [
    "in_features=5\n",
    "out_features=2\n",
    "nb_nodes = 3\n",
    "\n",
    "# Parameter intialization \n",
    "# The goal of Xavier Initialization is to initialize the weights \n",
    "# such that the variance of the activations are the same across every layer\n",
    "\n",
    "\n",
    "W = nn.Parameter(torch.zeros(size=(in_features, out_features)))  # Xavier parameter initializator\n",
    "nn.init.xavier_uniform_(W.data,gain=1.414)\n",
    "\n",
    "# Random tensor with shape nb_nodes * in_features\n",
    "inp = torch.rand(nb_nodes,in_features)\n",
    "\n",
    "# linear transformation\n",
    "\n",
    "h = torch.mm(inp,W)\n",
    "# torch.mm -> matrix multiplication of mtx1 and mtx2. \n",
    "# mtx 1-> input amd mtx2-> weights\n",
    "# inp is a nodes * features matrix\n",
    "# W is a features * output features matrix\n",
    "# Results in a matrix with number of nodes * output features\n",
    "\n",
    "\n",
    "N = h.size()[0]\n",
    "\n",
    "print(h.shape)"
   ]
  },
  {
   "cell_type": "markdown",
   "id": "caf190f5",
   "metadata": {},
   "source": [
    "### Attention Mechanism"
   ]
  },
  {
   "cell_type": "code",
   "execution_count": 4,
   "id": "8321fd46",
   "metadata": {},
   "outputs": [
    {
     "name": "stdout",
     "output_type": "stream",
     "text": [
      "torch.Size([4, 1])\n"
     ]
    }
   ],
   "source": [
    "a = nn.Parameter(torch.zeros(size=(2*out_features,1))) # xavier parameter initialization\n",
    "nn.init.xavier_uniform_(a.data,gain=1.414)\n",
    "\n",
    "\n",
    "print(a.shape) # a will have a shape 2.output_features * 1\n",
    "# a is the function that will consist of the attention function used in this mechanism\n",
    "\n",
    "\n",
    "leakyrelu = nn.LeakyReLU(0.2) # LeakyReLU as described in the GAT paper. 0.2 is the slope of the \n",
    "                              # graph below the threshold\n"
   ]
  },
  {
   "cell_type": "code",
   "execution_count": 5,
   "id": "0c1547b2",
   "metadata": {},
   "outputs": [
    {
     "name": "stdout",
     "output_type": "stream",
     "text": [
      "torch.Size([3, 3, 4])\n",
      "tensor([[[ 0.0296,  1.2069,  0.0296,  1.2069],\n",
      "         [ 0.0296,  1.2069, -0.1931,  1.6624],\n",
      "         [ 0.0296,  1.2069,  0.1721,  0.8273]],\n",
      "\n",
      "        [[-0.1931,  1.6624,  0.0296,  1.2069],\n",
      "         [-0.1931,  1.6624, -0.1931,  1.6624],\n",
      "         [-0.1931,  1.6624,  0.1721,  0.8273]],\n",
      "\n",
      "        [[ 0.1721,  0.8273,  0.0296,  1.2069],\n",
      "         [ 0.1721,  0.8273, -0.1931,  1.6624],\n",
      "         [ 0.1721,  0.8273,  0.1721,  0.8273]]], grad_fn=<ViewBackward0>)\n"
     ]
    }
   ],
   "source": [
    "a_input = torch.cat([h.repeat(1,N).view(N*N,-1), h.repeat(N,1)],dim=1).view(N,-1,2*out_features)\n",
    "\n",
    "print(a_input.shape) \n",
    "# tensor.repeat(n,m) repeats the value present in the tensor \n",
    "# in a n,m dimension\n",
    "\n",
    "\n",
    "# This step just creates all possible permutations (with replacement) of node features with each other\n",
    "\n",
    "# If nodes have features [[ab],[cd],[ef]] the resultant matrix will be of the shape\n",
    "\n",
    "#   [ab X ab,\n",
    "#   ab X cd,\n",
    "#   ab X ef],\n",
    "#   [cd X ab,\n",
    "#   cd X cd,\n",
    "#   cd X ef],\n",
    "#   [ef X ab,\n",
    "#   ef X cd,\n",
    "#   ef X ef]\n",
    "\n",
    "print(a_input)"
   ]
  },
  {
   "cell_type": "code",
   "execution_count": 6,
   "id": "5072ee86",
   "metadata": {},
   "outputs": [],
   "source": [
    "e = leakyrelu(torch.matmul(a_input,a).squeeze(2))"
   ]
  },
  {
   "cell_type": "code",
   "execution_count": 7,
   "id": "ace8c414",
   "metadata": {},
   "outputs": [
    {
     "name": "stdout",
     "output_type": "stream",
     "text": [
      "torch.Size([3, 3, 4]) torch.Size([4, 1])\n",
      "\n",
      "torch.Size([3, 3, 1])\n",
      "\n",
      "torch.Size([3, 3])\n"
     ]
    }
   ],
   "source": [
    "print(a_input.shape,a.shape)\n",
    "print(\"\")\n",
    "print(torch.matmul(a_input,a).shape)\n",
    "print(\"\")\n",
    "print(torch.matmul(a_input,a).squeeze(2).shape)"
   ]
  },
  {
   "cell_type": "code",
   "execution_count": 8,
   "id": "e62063d9",
   "metadata": {},
   "outputs": [
    {
     "name": "stdout",
     "output_type": "stream",
     "text": [
      "tensor([[-0.0785, -0.2144,  0.1412],\n",
      "        [-0.0053, -0.1413,  0.5072],\n",
      "        [-0.1391, -0.2750, -0.0323]], grad_fn=<LeakyReluBackward0>)\n"
     ]
    }
   ],
   "source": [
    "print(e)\n",
    "\n",
    "# basically a matrix that defines inter node attention / influence\n",
    "\n",
    "# eij -> influence of node i on j"
   ]
  },
  {
   "cell_type": "markdown",
   "id": "1b2bbb44",
   "metadata": {},
   "source": [
    "#### Masked Attention"
   ]
  },
  {
   "cell_type": "code",
   "execution_count": 9,
   "id": "6a48ce16",
   "metadata": {},
   "outputs": [
    {
     "name": "stdout",
     "output_type": "stream",
     "text": [
      "torch.Size([3, 3])\n",
      "\n",
      "tensor([[-9.0000e+15, -9.0000e+15, -9.0000e+15],\n",
      "        [-9.0000e+15, -9.0000e+15, -9.0000e+15],\n",
      "        [-9.0000e+15, -9.0000e+15, -9.0000e+15]])\n",
      "\n",
      "tensor([[0, 0, 0],\n",
      "        [1, 0, 0],\n",
      "        [1, 1, 0]])\n"
     ]
    }
   ],
   "source": [
    "# Masked Attention -> only done for a couple of nodes connected with some edges\n",
    "# The implementation of attention before works on the entire graph\n",
    "adj = torch.randint(2,(3,3))\n",
    "\n",
    "# adj is the mask\n",
    "\n",
    "zero_vec = -9e15*torch.ones_like(e)\n",
    "# Where adj is not equal to 1, it'll replace it with -infinity\n",
    "# -infinity because exp(e) will be used to define the influence \n",
    "# exp(-infinity) is zero\n",
    "\n",
    "print(zero_vec.shape)\n",
    "print(\"\")\n",
    "print(zero_vec)\n",
    "print(\"\")\n",
    "print(adj)"
   ]
  },
  {
   "cell_type": "code",
   "execution_count": 10,
   "id": "58f8a0a9",
   "metadata": {},
   "outputs": [
    {
     "name": "stdout",
     "output_type": "stream",
     "text": [
      "tensor([[-9.0000e+15, -9.0000e+15, -9.0000e+15],\n",
      "        [-5.3427e-03, -9.0000e+15, -9.0000e+15],\n",
      "        [-1.3913e-01, -2.7504e-01, -9.0000e+15]], grad_fn=<WhereBackward0>)\n"
     ]
    }
   ],
   "source": [
    "attention = torch.where(adj>0,e,zero_vec)\n",
    "print(attention)"
   ]
  },
  {
   "cell_type": "code",
   "execution_count": 11,
   "id": "12b2f8f5",
   "metadata": {},
   "outputs": [],
   "source": [
    "attention = F.softmax(attention,dim=1)\n",
    "h_prime = torch.matmul(attention,h)"
   ]
  },
  {
   "cell_type": "code",
   "execution_count": 12,
   "id": "a4917909",
   "metadata": {},
   "outputs": [
    {
     "data": {
      "text/plain": [
       "tensor([[0.3333, 0.3333, 0.3333],\n",
       "        [1.0000, 0.0000, 0.0000],\n",
       "        [0.5339, 0.4661, 0.0000]], grad_fn=<SoftmaxBackward0>)"
      ]
     },
     "execution_count": 12,
     "metadata": {},
     "output_type": "execute_result"
    }
   ],
   "source": [
    "attention"
   ]
  },
  {
   "cell_type": "code",
   "execution_count": 13,
   "id": "fca0fbbf",
   "metadata": {},
   "outputs": [
    {
     "data": {
      "text/plain": [
       "tensor([[ 0.0029,  1.2322],\n",
       "        [ 0.0296,  1.2069],\n",
       "        [-0.0742,  1.4192]], grad_fn=<MmBackward0>)"
      ]
     },
     "execution_count": 13,
     "metadata": {},
     "output_type": "execute_result"
    }
   ],
   "source": [
    "h_prime"
   ]
  },
  {
   "cell_type": "code",
   "execution_count": 14,
   "id": "1230f17d",
   "metadata": {},
   "outputs": [],
   "source": [
    " # h_prime is the tensor h modified by the attention mechanism"
   ]
  },
  {
   "cell_type": "code",
   "execution_count": 15,
   "id": "eb00de40",
   "metadata": {},
   "outputs": [
    {
     "data": {
      "text/plain": [
       "tensor([[ 0.0296,  1.2069],\n",
       "        [-0.1931,  1.6624],\n",
       "        [ 0.1721,  0.8273]], grad_fn=<MmBackward0>)"
      ]
     },
     "execution_count": 15,
     "metadata": {},
     "output_type": "execute_result"
    }
   ],
   "source": [
    "h"
   ]
  },
  {
   "cell_type": "markdown",
   "id": "c4ca251d",
   "metadata": {},
   "source": [
    "# Build the Layer"
   ]
  },
  {
   "cell_type": "code",
   "execution_count": 16,
   "id": "72f2c6a6",
   "metadata": {},
   "outputs": [],
   "source": [
    "class GATLayer(nn.Module):\n",
    "    def __init__(self,in_features,out_features,dropout,alpha,concat=True):\n",
    "        super(GATLayer,self).__init__()\n",
    "        # Define the initialization\n",
    "        self.in_features = in_features\n",
    "        self.out_features = out_features\n",
    "        self.alpha = alpha\n",
    "        self.concat = concat\n",
    "        self.dropout = dropout\n",
    "        \n",
    "        # Initialize weights\n",
    "        self.W = nn.Parameter(torch.zeros(size=(in_features, out_features)))  # Xavier parameter initializator\n",
    "        nn.init.xavier_uniform_(self.W.data,gain=1.414)\n",
    "\n",
    "        # Initialize Attention weights\n",
    "        self.a = nn.Parameter(torch.zeros(size=(2*out_features,1))) # xavier parameter initialization\n",
    "        nn.init.xavier_uniform_(a.data,gain=1.414)\n",
    "        \n",
    "        # LeakyReLU\n",
    "        self.leakyrelu = nn.LeakyReLU(0.2)\n",
    "        \n",
    "        \n",
    "    def forward(self,inp,adj):\n",
    "        \n",
    "        # Linear Transformation\n",
    "        h = torch.mm(inp,self.W)\n",
    "        N = h.size()[0] # N is the number of nodes in the graph\n",
    "        \n",
    "        # Attention Mechanism\n",
    "        a_input = torch.cat([h.repeat(1,N).view(N*N,-1),h.repeat(N,1)],dim=1).view(N,-1,2*self.out_features)\n",
    "        e = self.leakyrelu(torch.matmul(a_input,self.a).squeeze(2))\n",
    "        \n",
    "        # Masked Attnetion\n",
    "        zero_vec = -9e15*torch.ones_like(e)\n",
    "        attention = torch.where(adj>0,e,zero_vec)\n",
    "        \n",
    "        attention = F.softmax(attention,dim=1)\n",
    "        attention = F.dropout(attention, self.dropout, training=self.training)   # self.training = True or False depending on the mode of the model \n",
    "        h_prime = torch.matmul(attention,h)\n",
    "        \n",
    "        if self.concat:\n",
    "            return F.elu(h_prime)\n",
    "        else:\n",
    "            return h_prime"
   ]
  },
  {
   "cell_type": "markdown",
   "id": "774cb68a",
   "metadata": {},
   "source": [
    "### Using the Layer"
   ]
  },
  {
   "cell_type": "code",
   "execution_count": 26,
   "id": "3cbb0a4d",
   "metadata": {},
   "outputs": [
    {
     "name": "stdout",
     "output_type": "stream",
     "text": [
      "Number of Classes in Cora: 7\n",
      "Number of Node Features in Cora: 1433\n"
     ]
    }
   ],
   "source": [
    "from torch_geometric.data import Data\n",
    "from torch_geometric.nn import GATConv    # official GAT implementation in PyG\n",
    "from torch_geometric.datasets import Planetoid \n",
    "import torch_geometric.transforms as T\n",
    "\n",
    "import matplotlib.pyplot as plt \n",
    "\n",
    "name_data = 'Cora'\n",
    "dataset = Planetoid(root='data',name = name_data)\n",
    "dataset.transform = T.NormalizeFeatures()\n",
    "\n",
    "print(f\"Number of Classes in {name_data}:\", dataset.num_classes)\n",
    "print(f\"Number of Node Features in {name_data}:\", dataset.num_node_features)"
   ]
  },
  {
   "cell_type": "code",
   "execution_count": 27,
   "id": "a7b333ed",
   "metadata": {},
   "outputs": [],
   "source": [
    "class GAT(nn.Module):\n",
    "    def __init__(self,in_features,out_features):\n",
    "        super(GAT,self).__init__()\n",
    "        self.hid = 8\n",
    "        self.in_head = 8\n",
    "        self.out_head = 1\n",
    "        \n",
    "        self.conv1 = GATConv(in_features,self.hid,heads=self.in_head,dropout=0.6)\n",
    "        self.conv2 = GATConv(self.hid*self.in_head,out_features,concat=False,heads=self.out_head,dropout=0.6)\n",
    "        \n",
    "    def forward(self,data):\n",
    "        x,edge_index = data.x,data.edge_index\n",
    "        \n",
    "        x = F.dropout(x,p=0.6,training=self.training)\n",
    "        x = self.conv1(x,edge_index)\n",
    "        x = F.elu(x)\n",
    "        x = F.dropout(x,p=0.6,training=self.training)\n",
    "        x = self.conv2(x,edge_index)\n",
    "        \n",
    "        return F.log_softmax(x,dim=1)\n",
    "    \n",
    "device = torch.device('cuda' if torch.cuda.is_available() else 'cpu')\n",
    "\n",
    "model = GAT(dataset.num_features,dataset.num_classes).to(device)\n",
    "data = dataset[0].to(device)\n",
    "\n",
    "optimizer = torch.optim.Adam(model.parameters(),lr=0.005,weight_decay=5e-4)\n",
    "\n"
   ]
  },
  {
   "cell_type": "code",
   "execution_count": 28,
   "id": "f7ccdfd8",
   "metadata": {},
   "outputs": [],
   "source": [
    "def train(model,optimizer,data):\n",
    "    model.train()\n",
    "    optimizer.zero_grad()\n",
    "    out = model(data)\n",
    "    loss = F.nll_loss(out[data.train_mask],data.y[data.train_mask])\n",
    "    loss.backward()\n",
    "    optimizer.step()\n",
    "    return model,loss.item()\n",
    "    \n",
    "def test(model,optimizer,data):\n",
    "    model.eval()\n",
    "    logits,accs = model(data),[]\n",
    "    for _,mask in data('train_mask','val_mask','test_mask'):\n",
    "        pred = logits[mask].max(1)[1]\n",
    "        acc = pred.eq(data.y[mask]).sum().item() / mask.sum().item()\n",
    "        accs.append(acc)\n",
    "    return accs"
   ]
  },
  {
   "cell_type": "code",
   "execution_count": 29,
   "id": "eca59c8c",
   "metadata": {},
   "outputs": [],
   "source": [
    "def train_loop(model,optimizer,data,epochs):\n",
    "\n",
    "    best_val_acc = test_acc = 0\n",
    "\n",
    "    for epoch in range(1,epochs):\n",
    "        model,loss = train(model,optimizer,data)\n",
    "        _,val_acc,tmp_test_acc = test(model,optimizer,data)\n",
    "        if val_acc > best_val_acc:\n",
    "            best_val_acc = val_acc\n",
    "            test_acc = tmp_test_acc\n",
    "        log = 'Epoch: {}, TrainLoss:{}, Val: {:.4f}, Test: {:.4f}'\n",
    "        \n",
    "        if epoch%10==0:\n",
    "            print(log.format(epoch,loss,best_val_acc,test_acc))"
   ]
  },
  {
   "cell_type": "code",
   "execution_count": 30,
   "id": "23c531cf",
   "metadata": {
    "scrolled": true
   },
   "outputs": [
    {
     "name": "stdout",
     "output_type": "stream",
     "text": [
      "Epoch: 10, TrainLoss:1.892671823501587, Val: 0.5360, Test: 0.5140\n",
      "Epoch: 20, TrainLoss:1.8235670328140259, Val: 0.7760, Test: 0.7890\n",
      "Epoch: 30, TrainLoss:1.695556879043579, Val: 0.7900, Test: 0.8010\n",
      "Epoch: 40, TrainLoss:1.5816506147384644, Val: 0.8000, Test: 0.8100\n",
      "Epoch: 50, TrainLoss:1.4098389148712158, Val: 0.8080, Test: 0.8110\n",
      "Epoch: 60, TrainLoss:1.2918838262557983, Val: 0.8080, Test: 0.8110\n",
      "Epoch: 70, TrainLoss:1.1648389101028442, Val: 0.8080, Test: 0.8110\n",
      "Epoch: 80, TrainLoss:1.1053766012191772, Val: 0.8080, Test: 0.8110\n",
      "Epoch: 90, TrainLoss:1.0387656688690186, Val: 0.8080, Test: 0.8110\n",
      "Epoch: 100, TrainLoss:0.9008991718292236, Val: 0.8080, Test: 0.8110\n",
      "Epoch: 110, TrainLoss:0.9839423298835754, Val: 0.8080, Test: 0.8110\n",
      "Epoch: 120, TrainLoss:0.9564015865325928, Val: 0.8080, Test: 0.8110\n",
      "Epoch: 130, TrainLoss:0.7935064435005188, Val: 0.8080, Test: 0.8110\n",
      "Epoch: 140, TrainLoss:0.7400982975959778, Val: 0.8080, Test: 0.8110\n",
      "Epoch: 150, TrainLoss:0.7688996195793152, Val: 0.8080, Test: 0.8110\n",
      "Epoch: 160, TrainLoss:0.7573725581169128, Val: 0.8080, Test: 0.8110\n",
      "Epoch: 170, TrainLoss:0.7864617109298706, Val: 0.8080, Test: 0.8110\n",
      "Epoch: 180, TrainLoss:0.785568118095398, Val: 0.8120, Test: 0.8280\n",
      "Epoch: 190, TrainLoss:0.6562706232070923, Val: 0.8140, Test: 0.8290\n",
      "Epoch: 200, TrainLoss:0.6611388921737671, Val: 0.8140, Test: 0.8290\n",
      "Epoch: 210, TrainLoss:0.7183056473731995, Val: 0.8140, Test: 0.8290\n",
      "Epoch: 220, TrainLoss:0.614912748336792, Val: 0.8140, Test: 0.8290\n",
      "Epoch: 230, TrainLoss:0.6455424427986145, Val: 0.8140, Test: 0.8290\n",
      "Epoch: 240, TrainLoss:0.5413886308670044, Val: 0.8140, Test: 0.8290\n",
      "Epoch: 250, TrainLoss:0.7061319351196289, Val: 0.8140, Test: 0.8290\n",
      "Epoch: 260, TrainLoss:0.6662485599517822, Val: 0.8140, Test: 0.8290\n",
      "Epoch: 270, TrainLoss:0.6238947510719299, Val: 0.8140, Test: 0.8290\n",
      "Epoch: 280, TrainLoss:0.5541297197341919, Val: 0.8140, Test: 0.8290\n",
      "Epoch: 290, TrainLoss:0.5690724849700928, Val: 0.8140, Test: 0.8290\n",
      "Epoch: 300, TrainLoss:0.5843752026557922, Val: 0.8140, Test: 0.8290\n",
      "Epoch: 310, TrainLoss:0.6822555065155029, Val: 0.8140, Test: 0.8290\n",
      "Epoch: 320, TrainLoss:0.6435976624488831, Val: 0.8140, Test: 0.8290\n",
      "Epoch: 330, TrainLoss:0.6859056949615479, Val: 0.8140, Test: 0.8290\n",
      "Epoch: 340, TrainLoss:0.7009451389312744, Val: 0.8140, Test: 0.8290\n",
      "Epoch: 350, TrainLoss:0.574306845664978, Val: 0.8140, Test: 0.8290\n",
      "Epoch: 360, TrainLoss:0.598307192325592, Val: 0.8140, Test: 0.8290\n",
      "Epoch: 370, TrainLoss:0.5632941126823425, Val: 0.8140, Test: 0.8290\n",
      "Epoch: 380, TrainLoss:0.5715384483337402, Val: 0.8140, Test: 0.8290\n",
      "Epoch: 390, TrainLoss:0.5617968440055847, Val: 0.8140, Test: 0.8290\n",
      "Epoch: 400, TrainLoss:0.4988608658313751, Val: 0.8140, Test: 0.8290\n",
      "Epoch: 410, TrainLoss:0.5992721319198608, Val: 0.8140, Test: 0.8290\n",
      "Epoch: 420, TrainLoss:0.513884961605072, Val: 0.8140, Test: 0.8290\n",
      "Epoch: 430, TrainLoss:0.5147777795791626, Val: 0.8140, Test: 0.8290\n",
      "Epoch: 440, TrainLoss:0.6003554463386536, Val: 0.8140, Test: 0.8290\n",
      "Epoch: 450, TrainLoss:0.43686944246292114, Val: 0.8140, Test: 0.8290\n",
      "Epoch: 460, TrainLoss:0.548694908618927, Val: 0.8140, Test: 0.8290\n",
      "Epoch: 470, TrainLoss:0.4560146927833557, Val: 0.8140, Test: 0.8290\n",
      "Epoch: 480, TrainLoss:0.6520208716392517, Val: 0.8140, Test: 0.8290\n",
      "Epoch: 490, TrainLoss:0.5776317715644836, Val: 0.8140, Test: 0.8290\n",
      "Epoch: 500, TrainLoss:0.5697696208953857, Val: 0.8140, Test: 0.8290\n",
      "Epoch: 510, TrainLoss:0.6465729475021362, Val: 0.8140, Test: 0.8290\n",
      "Epoch: 520, TrainLoss:0.6077057719230652, Val: 0.8140, Test: 0.8290\n",
      "Epoch: 530, TrainLoss:0.5378453135490417, Val: 0.8140, Test: 0.8290\n",
      "Epoch: 540, TrainLoss:0.5718828439712524, Val: 0.8140, Test: 0.8290\n",
      "Epoch: 550, TrainLoss:0.6393502354621887, Val: 0.8140, Test: 0.8290\n",
      "Epoch: 560, TrainLoss:0.6367286443710327, Val: 0.8140, Test: 0.8290\n",
      "Epoch: 570, TrainLoss:0.557603120803833, Val: 0.8140, Test: 0.8290\n",
      "Epoch: 580, TrainLoss:0.48942169547080994, Val: 0.8140, Test: 0.8290\n",
      "Epoch: 590, TrainLoss:0.567291796207428, Val: 0.8140, Test: 0.8290\n",
      "Epoch: 600, TrainLoss:0.6848790645599365, Val: 0.8140, Test: 0.8290\n",
      "Epoch: 610, TrainLoss:0.6308279633522034, Val: 0.8140, Test: 0.8290\n",
      "Epoch: 620, TrainLoss:0.5855821967124939, Val: 0.8140, Test: 0.8290\n",
      "Epoch: 630, TrainLoss:0.626658022403717, Val: 0.8140, Test: 0.8290\n",
      "Epoch: 640, TrainLoss:0.6274173855781555, Val: 0.8140, Test: 0.8290\n",
      "Epoch: 650, TrainLoss:0.513422429561615, Val: 0.8140, Test: 0.8290\n",
      "Epoch: 660, TrainLoss:0.5645444393157959, Val: 0.8140, Test: 0.8290\n",
      "Epoch: 670, TrainLoss:0.5945237874984741, Val: 0.8140, Test: 0.8290\n",
      "Epoch: 680, TrainLoss:0.5168614387512207, Val: 0.8140, Test: 0.8290\n",
      "Epoch: 690, TrainLoss:0.6002273559570312, Val: 0.8140, Test: 0.8290\n",
      "Epoch: 700, TrainLoss:0.6267877221107483, Val: 0.8140, Test: 0.8290\n",
      "Epoch: 710, TrainLoss:0.6050276160240173, Val: 0.8140, Test: 0.8290\n",
      "Epoch: 720, TrainLoss:0.6653087735176086, Val: 0.8140, Test: 0.8290\n",
      "Epoch: 730, TrainLoss:0.4978153109550476, Val: 0.8140, Test: 0.8290\n",
      "Epoch: 740, TrainLoss:0.5995280146598816, Val: 0.8140, Test: 0.8290\n",
      "Epoch: 750, TrainLoss:0.6321882605552673, Val: 0.8140, Test: 0.8290\n",
      "Epoch: 760, TrainLoss:0.5153663754463196, Val: 0.8140, Test: 0.8290\n",
      "Epoch: 770, TrainLoss:0.42986154556274414, Val: 0.8140, Test: 0.8290\n",
      "Epoch: 780, TrainLoss:0.6566764116287231, Val: 0.8160, Test: 0.8370\n",
      "Epoch: 790, TrainLoss:0.5537680387496948, Val: 0.8160, Test: 0.8370\n",
      "Epoch: 800, TrainLoss:0.5642163157463074, Val: 0.8160, Test: 0.8370\n",
      "Epoch: 810, TrainLoss:0.4616457223892212, Val: 0.8160, Test: 0.8370\n",
      "Epoch: 820, TrainLoss:0.498338907957077, Val: 0.8160, Test: 0.8370\n",
      "Epoch: 830, TrainLoss:0.5232523083686829, Val: 0.8160, Test: 0.8370\n",
      "Epoch: 840, TrainLoss:0.5156959891319275, Val: 0.8160, Test: 0.8370\n",
      "Epoch: 850, TrainLoss:0.5232588648796082, Val: 0.8160, Test: 0.8370\n",
      "Epoch: 860, TrainLoss:0.5158398747444153, Val: 0.8160, Test: 0.8370\n",
      "Epoch: 870, TrainLoss:0.5804988741874695, Val: 0.8160, Test: 0.8370\n",
      "Epoch: 880, TrainLoss:0.6065959930419922, Val: 0.8160, Test: 0.8370\n",
      "Epoch: 890, TrainLoss:0.5983015298843384, Val: 0.8160, Test: 0.8370\n",
      "Epoch: 900, TrainLoss:0.543867290019989, Val: 0.8160, Test: 0.8370\n",
      "Epoch: 910, TrainLoss:0.5712911486625671, Val: 0.8160, Test: 0.8370\n",
      "Epoch: 920, TrainLoss:0.5352651476860046, Val: 0.8160, Test: 0.8370\n",
      "Epoch: 930, TrainLoss:0.5738967061042786, Val: 0.8160, Test: 0.8370\n",
      "Epoch: 940, TrainLoss:0.505604088306427, Val: 0.8160, Test: 0.8370\n",
      "Epoch: 950, TrainLoss:0.6964670419692993, Val: 0.8160, Test: 0.8370\n",
      "Epoch: 960, TrainLoss:0.448660671710968, Val: 0.8160, Test: 0.8370\n",
      "Epoch: 970, TrainLoss:0.597026526927948, Val: 0.8160, Test: 0.8370\n",
      "Epoch: 980, TrainLoss:0.5224810838699341, Val: 0.8160, Test: 0.8370\n",
      "Epoch: 990, TrainLoss:0.6010165214538574, Val: 0.8160, Test: 0.8370\n"
     ]
    }
   ],
   "source": [
    "train_loop(model,optimizer,data,1000)"
   ]
  },
  {
   "cell_type": "code",
   "execution_count": null,
   "id": "6889fe2b",
   "metadata": {},
   "outputs": [],
   "source": []
  },
  {
   "cell_type": "code",
   "execution_count": null,
   "id": "166ed7aa",
   "metadata": {},
   "outputs": [],
   "source": []
  }
 ],
 "metadata": {
  "kernelspec": {
   "display_name": "Python 3 (ipykernel)",
   "language": "python",
   "name": "python3"
  },
  "language_info": {
   "codemirror_mode": {
    "name": "ipython",
    "version": 3
   },
   "file_extension": ".py",
   "mimetype": "text/x-python",
   "name": "python",
   "nbconvert_exporter": "python",
   "pygments_lexer": "ipython3",
   "version": "3.9.7"
  }
 },
 "nbformat": 4,
 "nbformat_minor": 5
}
