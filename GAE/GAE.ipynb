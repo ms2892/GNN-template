{
 "cells": [
  {
   "cell_type": "code",
   "execution_count": 1,
   "id": "9900b9b4",
   "metadata": {},
   "outputs": [],
   "source": [
    "import torch\n",
    "from torch_geometric.datasets import Planetoid\n",
    "import torch_geometric.transforms as T\n",
    "from torch_geometric.nn import GCNConv\n",
    "from torch_geometric.utils import train_test_split_edges"
   ]
  },
  {
   "cell_type": "markdown",
   "id": "b5b95d32",
   "metadata": {},
   "source": [
    "# Graph Auto Encoders and Variational Graph Auto Encoders\n",
    "\n",
    "This is a test notebook to understand the functioning of graph auto encoders and variational graph auto encoders"
   ]
  },
  {
   "cell_type": "markdown",
   "id": "5351bf54",
   "metadata": {},
   "source": [
    "#### Graph Auto encoders\n",
    "\n",
    "How it works? Just like in a normal auto encoder, what happens is that input is first downsized through a couple of Conv layers and then upscaled back. It has 3 components Encoder -> Embedding space -> Decoder.\n",
    "\n",
    "Similarly a Graph Auto Encoder will have autoencoders for every node present. The node will have its own features and it will be forward to auto encoder. The decoders will use the adjacent embeddings to decode the embedding space."
   ]
  },
  {
   "cell_type": "code",
   "execution_count": 3,
   "id": "6204b2f1",
   "metadata": {},
   "outputs": [
    {
     "data": {
      "text/plain": [
       "Data(x=[3327, 3703], edge_index=[2, 9104], y=[3327], train_mask=[3327], val_mask=[3327], test_mask=[3327])"
      ]
     },
     "execution_count": 3,
     "metadata": {},
     "output_type": "execute_result"
    }
   ],
   "source": [
    "dataset = Planetoid('data','CiteSeer',transform=T.NormalizeFeatures())\n",
    "dataset.data"
   ]
  },
  {
   "cell_type": "code",
   "execution_count": 4,
   "id": "ee3f3711",
   "metadata": {},
   "outputs": [
    {
     "data": {
      "text/plain": [
       "Data(x=[3327, 3703], edge_index=[2, 9104], y=[3327])"
      ]
     },
     "execution_count": 4,
     "metadata": {},
     "output_type": "execute_result"
    }
   ],
   "source": [
    "data = dataset[0]\n",
    "\n",
    "data.train_mask = data.val_mask = data.test_mask = None\n",
    "data"
   ]
  },
  {
   "cell_type": "code",
   "execution_count": 5,
   "id": "095e280e",
   "metadata": {},
   "outputs": [
    {
     "name": "stderr",
     "output_type": "stream",
     "text": [
      "C:\\Users\\msadi\\anaconda3\\lib\\site-packages\\torch_geometric\\deprecation.py:12: UserWarning: 'train_test_split_edges' is deprecated, use 'transforms.RandomLinkSplit' instead\n",
      "  warnings.warn(out)\n"
     ]
    }
   ],
   "source": [
    "data = train_test_split_edges(data)"
   ]
  },
  {
   "cell_type": "code",
   "execution_count": 6,
   "id": "c781c128",
   "metadata": {},
   "outputs": [
    {
     "data": {
      "text/plain": [
       "Data(x=[3327, 3703], y=[3327], val_pos_edge_index=[2, 227], test_pos_edge_index=[2, 455], train_pos_edge_index=[2, 7740], train_neg_adj_mask=[3327, 3327], val_neg_edge_index=[2, 227], test_neg_edge_index=[2, 455])"
      ]
     },
     "execution_count": 6,
     "metadata": {},
     "output_type": "execute_result"
    }
   ],
   "source": [
    "data"
   ]
  },
  {
   "cell_type": "markdown",
   "id": "cd76532d",
   "metadata": {},
   "source": [
    "### Define the Encoder"
   ]
  },
  {
   "cell_type": "code",
   "execution_count": 7,
   "id": "06186e9b",
   "metadata": {},
   "outputs": [],
   "source": [
    "class GCNEncoder(torch.nn.Module):\n",
    "    def __init__(self,in_channels,out_channels):\n",
    "        super(GCNEncoder,self).__init__()\n",
    "        self.conv1 = GCNConv(in_channels,256,cached = True)  # cached only for transductive learning\n",
    "        self.conv1_5 = GCNConv(512,128,cached=True)         # cached only for transductive learning\n",
    "        self.conv2 = GCNConv(128,out_channels,cached=True) # cached only for transductive learning\n",
    "        \n",
    "    def forward(self,x,edge_index):\n",
    "        x = self.conv1(x,edge_index).relu()\n",
    "        x = self.conv1_5(x,edge_index).relu()\n",
    "        return self.conv2(x,edge_index)"
   ]
  },
  {
   "cell_type": "markdown",
   "id": "d8134a46",
   "metadata": {},
   "source": [
    "### Define the AutoEncoder"
   ]
  },
  {
   "cell_type": "code",
   "execution_count": 8,
   "id": "6f63e0da",
   "metadata": {},
   "outputs": [],
   "source": [
    "from torch_geometric.nn import GAE"
   ]
  },
  {
   "cell_type": "code",
   "execution_count": 16,
   "id": "931cc140",
   "metadata": {},
   "outputs": [],
   "source": [
    "# parameters\n",
    "out_channels = 32\n",
    "num_features = dataset.num_features\n",
    "epochs = 1000\n",
    "\n",
    "# model\n",
    "\n",
    "model = GAE(GCNEncoder(num_features,out_channels))\n",
    "\n",
    "# move to device \n",
    "device = torch.device('cuda' if torch.cuda.is_available() else 'cpu')\n",
    "model = model.to(device)\n",
    "x = data.x.to(device)\n",
    "train_pos_edge_index = data.train_pos_edge_index.to(device)\n",
    "\n",
    "# optimizer\n",
    "optimizer = torch.optim.Adam(model.parameters(),lr=0.01)\n"
   ]
  },
  {
   "cell_type": "code",
   "execution_count": 17,
   "id": "a46ba8f6",
   "metadata": {},
   "outputs": [],
   "source": [
    "def train(model, optimizer, x, pos_edge):\n",
    "    model.train()\n",
    "    optimizer.zero_grad()\n",
    "    z = model.encode(x,pos_edge)\n",
    "    loss = model.recon_loss(z, pos_edge)\n",
    "    loss.backward()\n",
    "    optimizer.step()\n",
    "    return float(loss)\n",
    "\n",
    "def test(pos_edge,neg_edge,x,train_pos_index):\n",
    "    model.eval()\n",
    "    with torch.no_grad():\n",
    "        z = model.encode(x,train_pos_index)\n",
    "    return model.test(z,pos_edge,neg_edge)"
   ]
  },
  {
   "cell_type": "code",
   "execution_count": 20,
   "id": "51bb7be1",
   "metadata": {
    "scrolled": true
   },
   "outputs": [
    {
     "name": "stdout",
     "output_type": "stream",
     "text": [
      "Epoch: 100, AUC: 0.8811, AP: 0.8999\n",
      "Epoch: 200, AUC: 0.8779, AP: 0.8990\n",
      "Epoch: 300, AUC: 0.8726, AP: 0.8964\n",
      "Epoch: 400, AUC: 0.8731, AP: 0.8967\n",
      "Epoch: 500, AUC: 0.8746, AP: 0.8979\n",
      "Epoch: 600, AUC: 0.8728, AP: 0.8966\n",
      "Epoch: 700, AUC: 0.8671, AP: 0.8917\n",
      "Epoch: 800, AUC: 0.8668, AP: 0.8905\n",
      "Epoch: 900, AUC: 0.8626, AP: 0.8887\n",
      "Epoch: 1000, AUC: 0.8639, AP: 0.8882\n"
     ]
    }
   ],
   "source": [
    "history={'auc':[],'ap':[]}\n",
    "\n",
    "for epoch in range(1,epochs+1):\n",
    "    loss = train(model,optimizer,x,train_pos_edge_index)\n",
    "    \n",
    "    auc,ap = test(data.test_pos_edge_index,data.test_neg_edge_index,x,train_pos_edge_index)\n",
    "    history['auc'].append(auc)\n",
    "    history['ap'].append(ap)\n",
    "    if epoch%100==0:\n",
    "        print(\"Epoch: {:03d}, AUC: {:.4f}, AP: {:.4f}\".format(epoch,auc,ap))\n",
    "    "
   ]
  },
  {
   "cell_type": "code",
   "execution_count": 21,
   "id": "afa3f81b",
   "metadata": {},
   "outputs": [],
   "source": [
    "import matplotlib.pyplot as plt"
   ]
  },
  {
   "cell_type": "code",
   "execution_count": 24,
   "id": "46f39bb1",
   "metadata": {},
   "outputs": [
    {
     "data": {
      "image/png": "[encoded data removed]",
      "text/plain": [
       "<Figure size 432x288 with 1 Axes>"
      ]
     },
     "metadata": {
      "needs_background": "light"
     },
     "output_type": "display_data"
    }
   ],
   "source": [
    "plt.plot(history['auc'])\n",
    "plt.plot(history['ap'])\n",
    "plt.show()"
   ]
  },
  {
   "cell_type": "markdown",
   "id": "4e06f6e5",
   "metadata": {},
   "source": [
    "# TensorBoard\n",
    "\n",
    "for live monitoring of the model performance"
   ]
  },
  {
   "cell_type": "code",
   "execution_count": 25,
   "id": "122dcab8",
   "metadata": {},
   "outputs": [],
   "source": [
    "from torch.utils.tensorboard import SummaryWriter"
   ]
  },
  {
   "cell_type": "code",
   "execution_count": 26,
   "id": "f1823e8e",
   "metadata": {},
   "outputs": [],
   "source": [
    "# parameters\n",
    "out_channels = 32\n",
    "num_features = dataset.num_features\n",
    "epochs = 1000\n",
    "\n",
    "# model\n",
    "\n",
    "model = GAE(GCNEncoder(num_features,out_channels))\n",
    "\n",
    "# move to device \n",
    "device = torch.device('cuda' if torch.cuda.is_available() else 'cpu')\n",
    "model = model.to(device)\n",
    "x = data.x.to(device)\n",
    "train_pos_edge_index = data.train_pos_edge_index.to(device)\n",
    "\n",
    "# optimizer\n",
    "optimizer = torch.optim.Adam(model.parameters(),lr=0.01)\n"
   ]
  },
  {
   "cell_type": "markdown",
   "id": "10b1ec8f",
   "metadata": {},
   "source": [
    "### Import TensorBoard"
   ]
  },
  {
   "cell_type": "code",
   "execution_count": 27,
   "id": "86aebbd7",
   "metadata": {},
   "outputs": [],
   "source": [
    "writer = SummaryWriter('runs/GAE_experiment_'+'32d_1000_epochs')"
   ]
  },
  {
   "cell_type": "code",
   "execution_count": 29,
   "id": "00f42d1d",
   "metadata": {},
   "outputs": [
    {
     "name": "stdout",
     "output_type": "stream",
     "text": [
      "Epoch: 100, AUC: 0.8902, AP: 0.8890\n",
      "Epoch: 200, AUC: 0.8844, AP: 0.8880\n",
      "Epoch: 300, AUC: 0.8834, AP: 0.8995\n",
      "Epoch: 400, AUC: 0.8870, AP: 0.9029\n",
      "Epoch: 500, AUC: 0.8885, AP: 0.9058\n",
      "Epoch: 600, AUC: 0.8930, AP: 0.9099\n",
      "Epoch: 700, AUC: 0.8984, AP: 0.9128\n",
      "Epoch: 800, AUC: 0.8931, AP: 0.9092\n",
      "Epoch: 900, AUC: 0.8984, AP: 0.9114\n",
      "Epoch: 1000, AUC: 0.8934, AP: 0.9074\n"
     ]
    }
   ],
   "source": [
    "\n",
    "for epoch in range(1,epochs+1):\n",
    "    loss = train(model,optimizer,x,train_pos_edge_index)\n",
    "    \n",
    "    auc,ap = test(data.test_pos_edge_index,data.test_neg_edge_index,x,train_pos_edge_index)\n",
    "    if epoch%100==0:\n",
    "        print(\"Epoch: {:03d}, AUC: {:.4f}, AP: {:.4f}\".format(epoch,auc,ap))\n",
    "    writer.add_scalar('auc train',auc,epoch)\n",
    "    writer.add_scalar('ap train',ap,epoch)"
   ]
  },
  {
   "cell_type": "code",
   "execution_count": null,
   "id": "000f3f9b",
   "metadata": {},
   "outputs": [],
   "source": []
  }
 ],
 "metadata": {
  "kernelspec": {
   "display_name": "Python 3 (ipykernel)",
   "language": "python",
   "name": "python3"
  },
  "language_info": {
   "codemirror_mode": {
    "name": "ipython",
    "version": 3
   },
   "file_extension": ".py",
   "mimetype": "text/x-python",
   "name": "python",
   "nbconvert_exporter": "python",
   "pygments_lexer": "ipython3",
   "version": "3.9.7"
  }
 },
 "nbformat": 4,
 "nbformat_minor": 5
}
